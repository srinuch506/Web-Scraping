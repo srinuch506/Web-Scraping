{
  "nbformat": 4,
  "nbformat_minor": 0,
  "metadata": {
    "colab": {
      "provenance": [],
      "authorship_tag": "ABX9TyNLojos2ZsL/Y0PaLR2w7yK",
      "include_colab_link": true
    },
    "kernelspec": {
      "name": "python3",
      "display_name": "Python 3"
    },
    "language_info": {
      "name": "python"
    }
  },
  "cells": [
    {
      "cell_type": "markdown",
      "metadata": {
        "id": "view-in-github",
        "colab_type": "text"
      },
      "source": [
        "<a href=\"https://colab.research.google.com/github/srinuch506/Web-Scraping/blob/main/Web_Scrapping.ipynb\" target=\"_parent\"><img src=\"https://colab.research.google.com/assets/colab-badge.svg\" alt=\"Open In Colab\"/></a>"
      ]
    },
    {
      "cell_type": "code",
      "execution_count": null,
      "metadata": {
        "colab": {
          "base_uri": "https://localhost:8080/"
        },
        "collapsed": true,
        "id": "Yf3rf64GVvgp",
        "outputId": "fde9891f-dcd9-4562-b6c5-38906fa601a3"
      },
      "outputs": [
        {
          "output_type": "stream",
          "name": "stdout",
          "text": [
            "Requirement already satisfied: numpy in /usr/local/lib/python3.11/dist-packages (1.26.4)\n",
            "Requirement already satisfied: pandas in /usr/local/lib/python3.11/dist-packages (2.2.2)\n",
            "Requirement already satisfied: numpy>=1.23.2 in /usr/local/lib/python3.11/dist-packages (from pandas) (1.26.4)\n",
            "Requirement already satisfied: python-dateutil>=2.8.2 in /usr/local/lib/python3.11/dist-packages (from pandas) (2.8.2)\n",
            "Requirement already satisfied: pytz>=2020.1 in /usr/local/lib/python3.11/dist-packages (from pandas) (2024.2)\n",
            "Requirement already satisfied: tzdata>=2022.7 in /usr/local/lib/python3.11/dist-packages (from pandas) (2025.1)\n",
            "Requirement already satisfied: six>=1.5 in /usr/local/lib/python3.11/dist-packages (from python-dateutil>=2.8.2->pandas) (1.17.0)\n",
            "Collecting bs4\n",
            "  Downloading bs4-0.0.2-py2.py3-none-any.whl.metadata (411 bytes)\n",
            "Requirement already satisfied: beautifulsoup4 in /usr/local/lib/python3.11/dist-packages (from bs4) (4.12.3)\n",
            "Requirement already satisfied: soupsieve>1.2 in /usr/local/lib/python3.11/dist-packages (from beautifulsoup4->bs4) (2.6)\n",
            "Downloading bs4-0.0.2-py2.py3-none-any.whl (1.2 kB)\n",
            "Installing collected packages: bs4\n",
            "Successfully installed bs4-0.0.2\n"
          ]
        }
      ],
      "source": [
        "!pip install numpy\n",
        "!pip install pandas\n",
        "!pip install bs4"
      ]
    },
    {
      "cell_type": "code",
      "source": [
        "import pandas as pd\n",
        "import requests\n",
        "from bs4 import BeautifulSoup"
      ],
      "metadata": {
        "id": "yhzT0VbSWYOI"
      },
      "execution_count": null,
      "outputs": []
    },
    {
      "cell_type": "markdown",
      "source": [
        "# *Amazon*"
      ],
      "metadata": {
        "id": "z17Yy97G7GDD"
      }
    },
    {
      "cell_type": "code",
      "source": [
        "url='https://www.amazon.in/b/?_encoding=UTF8&node=4951860031&ref_=sv_top_hk_mega_1'\n",
        "responce=requests.get(url)\n",
        "responce.status_code"
      ],
      "metadata": {
        "colab": {
          "base_uri": "https://localhost:8080/"
        },
        "id": "T_xO2DCv7CiA",
        "outputId": "01576b08-94f0-48c6-e45c-14c3fb2a7e2f"
      },
      "execution_count": null,
      "outputs": [
        {
          "output_type": "execute_result",
          "data": {
            "text/plain": [
              "200"
            ]
          },
          "metadata": {},
          "execution_count": 21
        }
      ]
    },
    {
      "cell_type": "code",
      "source": [
        "soup=BeautifulSoup(responce.content,'html.parser')\n",
        "links=soup.find_all('a')\n",
        "for i in links:\n",
        "  print(i.get('href'))"
      ],
      "metadata": {
        "id": "uyznXwWf6ZAn",
        "colab": {
          "base_uri": "https://localhost:8080/"
        },
        "outputId": "493f3ee7-7617-41f5-fac9-a6b22b631a4b"
      },
      "execution_count": null,
      "outputs": [
        {
          "output_type": "stream",
          "name": "stdout",
          "text": [
            "None\n",
            "None\n",
            "None\n",
            "None\n",
            "None\n",
            "None\n",
            "/ref=nav_logo\n",
            "\n",
            "/customer-preferences/edit?ie=UTF8&preferencesReturnUrl=%2F&ref_=topnav_lang\n",
            "https://www.amazon.in/ap/signin?openid.pape.max_auth_age=0&openid.return_to=https%3A%2F%2Fwww.amazon.in%2Fb%2F%3F_encoding%3DUTF8%26_encoding%3DUTF8%26node%3D4951860031%26ref_%3Dnav_ya_signin&openid.identity=http%3A%2F%2Fspecs.openid.net%2Fauth%2F2.0%2Fidentifier_select&openid.assoc_handle=inflex&openid.mode=checkid_setup&openid.claimed_id=http%3A%2F%2Fspecs.openid.net%2Fauth%2F2.0%2Fidentifier_select&openid.ns=http%3A%2F%2Fspecs.openid.net%2Fauth%2F2.0\n",
            "/gp/css/order-history?ref_=nav_orders_first\n",
            "/gp/cart/view.html?ref_=nav_cart\n",
            "/gp/site-directory?ref_=nav_em_js_disabled\n",
            "/fresh?ref_=nav_cs_grocery\n",
            "/minitv?ref_=nav_avod_desktop_topnav\n",
            "/b/32702023031?node=32702023031&ld=AZINSOANavDesktop_T3&ref_=nav_cs_sell_T3\n",
            "/gp/bestsellers/?ref_=nav_cs_bestsellers\n",
            "/mobile-phones/b/?ie=UTF8&node=1389401031&ref_=nav_cs_mobiles\n",
            "/deals?ref_=nav_cs_gb\n",
            "/electronics/b/?ie=UTF8&node=976419031&ref_=nav_cs_electronics\n",
            "/gp/help/customer/display.html?nodeId=200507590&ref_=nav_cs_help\n",
            "/gp/sva/dashboard?ref_=nav_cs_apay\n",
            "/prime?ref_=nav_cs_primelink_nonmember\n",
            "/Home-Kitchen/b/?ie=UTF8&node=976442031&ref_=nav_cs_home\n",
            "/gp/new-releases/?ref_=nav_cs_newreleases\n",
            "/gp/browse.html?node=6648217031&ref_=nav_cs_fashion\n",
            "/computers-and-accessories/b/?ie=UTF8&node=976392031&ref_=nav_cs_pc\n",
            "/Car-Motorbike-Store/b/?ie=UTF8&node=4772060031&ref_=nav_cs_automotive\n",
            "/Books/b/?ie=UTF8&node=976389031&ref_=nav_cs_books\n",
            "/Toys-Games/b/?ie=UTF8&node=1350380031&ref_=nav_cs_toys\n",
            "/Sports/b/?ie=UTF8&node=1984443031&ref_=nav_cs_sports\n",
            "/Home-Improvement/b/?ie=UTF8&node=4286640031&ref_=nav_cs_hi\n",
            "/gift-card-store/b/?ie=UTF8&node=3704982031&ref_=nav_cs_gc\n",
            "/beauty/b/?ie=UTF8&node=1355016031&ref_=nav_cs_beauty\n",
            "/Amazon-Custom/b/?ie=UTF8&node=32615889031&ref_=nav_cs_custom\n",
            "/Baby/b/?ie=UTF8&node=1571274031&ref_=nav_cs_baby\n",
            "/Gourmet-Specialty-Foods/b/?ie=UTF8&node=2454178031&ref_=nav_cs_grocery\n",
            "/health-and-personal-care/b/?ie=UTF8&node=1350384031&ref_=nav_cs_hpc\n",
            "/video-games/b/?ie=UTF8&node=976460031&ref_=nav_cs_video_games\n",
            "/Pet-Supplies/b/?ie=UTF8&node=2454181031&ref_=nav_cs_pets\n",
            "/Audible-Books-and-Originals/b/?ie=UTF8&node=17941593031&ref_=nav_cs_audible\n",
            "/gcx/-/gfhz/?ref_=nav_cs_giftfinder\n",
            "/b/?node=6637738031&ref_=nav_cs_amazonbasics\n",
            "/auto-deliveries/landing?ref_=nav_cs_sns\n",
            "/Kindle-eBooks/b/?ie=UTF8&node=1634753031&ref_=nav_cs_kindle_books\n",
            "None\n",
            "/gp/history\n",
            "/gp/history\n",
            "javascript:void(0)\n",
            "https://www.aboutamazon.in/?utm_source=gateway&utm_medium=footer\n",
            "https://amazon.jobs\n",
            "https://press.aboutamazon.in/?utm_source=gateway&utm_medium=footer\n",
            "https://www.amazon.science\n",
            "https://www.amazon.in/gp/redirect.html/ref=footer_fb?location=http://www.facebook.com/AmazonIN&token=2075D5EAC7BB214089728E2183FD391706D41E94&6\n",
            "https://www.amazon.in/gp/redirect.html/ref=footer_twitter?location=http://twitter.com/AmazonIN&token=A309DFBFCB1E37A808FF531934855DC817F130B6&6\n",
            "https://www.amazon.in/gp/redirect.html?location=https://www.instagram.com/amazondotin&token=264882C912E9D005CB1D9B61F12E125D5DF9BFC7&source=standards\n",
            "/b/?node=2838698031&ld=AZINSOANavDesktopFooter_C&ref_=nav_footer_sell_C\n",
            "https://accelerator.amazon.in/?ref_=map_1_b2b_GW_FT\n",
            "https://brandservices.amazon.in/?ref=AOINABRLGNRFOOT&ld=AOINABRLGNRFOOT\n",
            "https://sell.amazon.in/grow-your-business/amazon-global-selling.html?ld=AZIN_Footer_V1&ref=AZIN_Footer_V1\n",
            "https://supply.amazon.com/?ref_=footer_sta&lang=en-IN\n",
            "https://affiliate-program.amazon.in/?utm_campaign=assocshowcase&utm_medium=footer&utm_source=GW&ref_=footer_assoc\n",
            "https://services.amazon.in/services/fulfilment-by-amazon/benefits.html/ref=az_footer_fba?ld=AWRGINFBAfooter\n",
            "https://advertising.amazon.in/?ref=Amz.in\n",
            "https://www.amazonpay.in/merchant\n",
            "/gp/css/homepage.html?ref_=footer_ya\n",
            "/gp/css/returns/homepage.html?ref_=footer_hy_f_4\n",
            "https://www.amazon.in/your-product-safety-alerts?ref_=footer_bsx_ypsa\n",
            "/gp/help/customer/display.html?nodeId=201083470&ref_=footer_swc\n",
            "/gp/browse.html?node=6967393031&ref_=footer_mobapp\n",
            "/gp/help/customer/display.html?nodeId=200507590&ref_=footer_gw_m_b_he\n",
            "/ref=footer_logo\n",
            "/customer-preferences/edit?ie=UTF8&preferencesReturnUrl=%2F&ref_=footer_lang\n",
            "/customer-preferences/country?ie=UTF8&preferencesReturnUrl=%2F&ref_=footer_icp_cp\n",
            "https://www.abebooks.com/\n",
            "https://aws.amazon.com/what-is-cloud-computing/?sc_channel=EL&sc_campaign=IN_amazonfooter\n",
            "https://www.audible.in/\n",
            "https://www.imdb.com/\n",
            "https://www.shopbop.com/\n",
            "/business?ref=footer_aingw\n",
            "/now?ref=footer_amznow\n",
            "/music/prime?ref=footer_apm\n",
            "/gp/help/customer/display.html?nodeId=200545940&ref_=footer_cou\n",
            "/gp/help/customer/display.html?nodeId=200534380&ref_=footer_privacy\n",
            "/gp/help/customer/display.html?nodeId=202075050&ref_=footer_iba\n"
          ]
        }
      ]
    },
    {
      "cell_type": "code",
      "source": [
        "data=soup.find('div', attrs={'class' : 'nav-search-scope nav-sprite'})\n",
        "print(data.text)"
      ],
      "metadata": {
        "id": "YI9cISNYtCXS",
        "colab": {
          "base_uri": "https://localhost:8080/"
        },
        "outputId": "95cc9b25-0d3d-428d-8703-cae623257ced"
      },
      "execution_count": null,
      "outputs": [
        {
          "output_type": "stream",
          "name": "stdout",
          "text": [
            "\n",
            "\n",
            "All\n",
            "\n",
            "\n",
            "Select the department you want to search in\n",
            "\n",
            "All Categories\n",
            "Alexa Skills\n",
            "Amazon Devices\n",
            "Amazon Fashion\n",
            "Amazon Fresh\n",
            "Amazon Fresh Meat\n",
            "Amazon Pharmacy\n",
            "Appliances\n",
            "Apps & Games\n",
            "Audible Audiobooks\n",
            "Baby\n",
            "Beauty\n",
            "Books\n",
            "Car & Motorbike\n",
            "Clothing & Accessories\n",
            "Collectibles\n",
            "Computers & Accessories\n",
            "Deals\n",
            "Electronics\n",
            "Furniture\n",
            "Garden & Outdoors\n",
            "Gift Cards\n",
            "Grocery & Gourmet Foods\n",
            "Health & Personal Care\n",
            "Home & Kitchen\n",
            "Industrial & Scientific\n",
            "Jewellery\n",
            "Kindle Store\n",
            "Luggage & Bags\n",
            "Luxury Beauty\n",
            "Movies & TV Shows\n",
            "MP3 Music\n",
            "Music\n",
            "Musical Instruments\n",
            "Office Products\n",
            "Pet Supplies\n",
            "Prime Video\n",
            "Shoes & Handbags\n",
            "Software\n",
            "Sports, Fitness & Outdoors\n",
            "Subscribe & Save\n",
            "Tools & Home Improvement\n",
            "Toys & Games\n",
            "Under ₹500\n",
            "Video Games\n",
            "Watches\n",
            "\n",
            "\n"
          ]
        }
      ]
    },
    {
      "cell_type": "markdown",
      "source": [
        "#Static Website"
      ],
      "metadata": {
        "id": "6_2T4yS13arD"
      }
    },
    {
      "cell_type": "code",
      "source": [
        "url = \"https://timely-sunshine-e821b3.netlify.app/\"\n",
        "responce=requests.get(url)\n",
        "responce.status_code"
      ],
      "metadata": {
        "id": "1ekaxCHsZQD0"
      },
      "execution_count": null,
      "outputs": []
    },
    {
      "cell_type": "code",
      "source": [
        "soup=BeautifulSoup(responce.content,'html.parser')"
      ],
      "metadata": {
        "id": "TxjiSa6V6zvx"
      },
      "execution_count": null,
      "outputs": []
    },
    {
      "cell_type": "code",
      "source": [
        "names_div=soup.find_all('div',class_=\"name\")\n",
        "price_div=soup.find_all('div',class_=\"price\")\n",
        "\n",
        "# print(names_div)\n",
        "# print(price_div)\n",
        "names=[]\n",
        "prices=[]\n",
        "for i in names_div:\n",
        "  s=''\n",
        "  for j in i.text:\n",
        "    if j!='\\r' and j!='\\n' and j!=' ':\n",
        "      s+=j\n",
        "  names.append(s)\n",
        "for i in price_div:\n",
        "  s=''\n",
        "  for j in i.text:\n",
        "    if j!='\\r' and j!='\\n' and j!=' ':\n",
        "      s+=j\n",
        "  prices.append(s)\n",
        "print(names)\n",
        "print(prices)\n"
      ],
      "metadata": {
        "id": "lMyrJubqnIaM"
      },
      "execution_count": null,
      "outputs": []
    },
    {
      "cell_type": "code",
      "source": [
        "df=pd.DataFrame({'Product Name':names,'Price':prices})\n",
        "#print(df)\n",
        "df"
      ],
      "metadata": {
        "id": "LjgHa7sm7WCk"
      },
      "execution_count": null,
      "outputs": []
    },
    {
      "cell_type": "code",
      "source": [
        "df.to_csv('product data.csv',header=True,index=False)"
      ],
      "metadata": {
        "id": "ub8lfaCK9DbV"
      },
      "execution_count": null,
      "outputs": []
    },
    {
      "cell_type": "code",
      "source": [
        "from google.colab import files\n",
        "files.download('product data.csv')"
      ],
      "metadata": {
        "colab": {
          "base_uri": "https://localhost:8080/",
          "height": 17
        },
        "id": "-ZPykufD9Xfh",
        "outputId": "540d2a5e-0fdc-4694-9826-b31e8fd9bc65"
      },
      "execution_count": null,
      "outputs": [
        {
          "output_type": "display_data",
          "data": {
            "text/plain": [
              "<IPython.core.display.Javascript object>"
            ],
            "application/javascript": [
              "\n",
              "    async function download(id, filename, size) {\n",
              "      if (!google.colab.kernel.accessAllowed) {\n",
              "        return;\n",
              "      }\n",
              "      const div = document.createElement('div');\n",
              "      const label = document.createElement('label');\n",
              "      label.textContent = `Downloading \"${filename}\": `;\n",
              "      div.appendChild(label);\n",
              "      const progress = document.createElement('progress');\n",
              "      progress.max = size;\n",
              "      div.appendChild(progress);\n",
              "      document.body.appendChild(div);\n",
              "\n",
              "      const buffers = [];\n",
              "      let downloaded = 0;\n",
              "\n",
              "      const channel = await google.colab.kernel.comms.open(id);\n",
              "      // Send a message to notify the kernel that we're ready.\n",
              "      channel.send({})\n",
              "\n",
              "      for await (const message of channel.messages) {\n",
              "        // Send a message to notify the kernel that we're ready.\n",
              "        channel.send({})\n",
              "        if (message.buffers) {\n",
              "          for (const buffer of message.buffers) {\n",
              "            buffers.push(buffer);\n",
              "            downloaded += buffer.byteLength;\n",
              "            progress.value = downloaded;\n",
              "          }\n",
              "        }\n",
              "      }\n",
              "      const blob = new Blob(buffers, {type: 'application/binary'});\n",
              "      const a = document.createElement('a');\n",
              "      a.href = window.URL.createObjectURL(blob);\n",
              "      a.download = filename;\n",
              "      div.appendChild(a);\n",
              "      a.click();\n",
              "      div.remove();\n",
              "    }\n",
              "  "
            ]
          },
          "metadata": {}
        },
        {
          "output_type": "display_data",
          "data": {
            "text/plain": [
              "<IPython.core.display.Javascript object>"
            ],
            "application/javascript": [
              "download(\"download_05a6b248-5c57-43f2-836d-fac13b5c320a\", \"product data.csv\", 111)"
            ]
          },
          "metadata": {}
        }
      ]
    },
    {
      "source": [
        "#Onther way\n",
        "from google.colab import sheets\n",
        "sheet = sheets.InteractiveSheet(df=df)"
      ],
      "cell_type": "code",
      "execution_count": null,
      "outputs": [],
      "metadata": {
        "cellView": "form",
        "id": "RjRrlBo28Rpk"
      }
    },
    {
      "cell_type": "markdown",
      "source": [
        "# **Jio Mart**"
      ],
      "metadata": {
        "id": "MGzmEjnt4g3R"
      }
    },
    {
      "cell_type": "code",
      "source": [
        "!pip install numpy\n",
        "!pip install pandas\n",
        "!pip install bs4"
      ],
      "metadata": {
        "id": "wAAsMC6eK6vT"
      },
      "execution_count": null,
      "outputs": []
    },
    {
      "cell_type": "code",
      "source": [
        "import pandas as pd\n",
        "import requests\n",
        "from bs4 import BeautifulSoup"
      ],
      "metadata": {
        "id": "OF4Q1PkuLSDM"
      },
      "execution_count": null,
      "outputs": []
    },
    {
      "cell_type": "code",
      "source": [
        "url=\"https://www.jiomart.com/c/fashion/women/ethnic-wear/494\"\n",
        "responce=requests.get(url)\n",
        "responce.status_code"
      ],
      "metadata": {
        "id": "EX-x8zRpLW4R",
        "colab": {
          "base_uri": "https://localhost:8080/"
        },
        "outputId": "a73f34c8-089f-48f0-9158-699429365940"
      },
      "execution_count": null,
      "outputs": [
        {
          "output_type": "execute_result",
          "data": {
            "text/plain": [
              "200"
            ]
          },
          "metadata": {},
          "execution_count": 24
        }
      ]
    },
    {
      "cell_type": "code",
      "source": [
        "soup=BeautifulSoup(responce.content,'html.parser')"
      ],
      "metadata": {
        "id": "jLBmzKa_Lbqv"
      },
      "execution_count": null,
      "outputs": []
    },
    {
      "cell_type": "code",
      "source": [
        "content=soup.find('div', attrs={'class' : 'jm-row jm-mb-massive'})\n",
        "text=content.text.strip()\n",
        "text"
      ],
      "metadata": {
        "id": "nv-w3tIk4LYc",
        "colab": {
          "base_uri": "https://localhost:8080/",
          "height": 140
        },
        "outputId": "40b84de8-0b21-4de4-c920-652bda07bfd7"
      },
      "execution_count": null,
      "outputs": [
        {
          "output_type": "execute_result",
          "data": {
            "text/plain": [
              "\"Women Regular Fit Pants    ₹199.00  ₹599.00     66% OFF                               Lowest Price     Women Leaf Print Straight Kurta & Pants Set    ₹270.00  ₹899.00     69% OFF                              Ankle-Length Leggings with Elasticated Waist    ₹299.00                             Mirayya Cotton Ankle Fit Trouser Pants for Women & Girls | Women Cotton Pant Trouser Regular Fit with Two Pocket for Office School Formal Casual Daily Use -black    ₹229.00  ₹1,100.00     79% OFF                               Lowest Price     Leaf Print Chanderi Dupatta    ₹150.00  ₹499.00     69% OFF                              Button-Down V-Neck Jacket    ₹300.00  ₹999.00     69% OFF                              Deepaayai fashions Women's Rayon Tunic Top Embroidered Tunic Available in Black    ₹329.00  ₹1,299.00     74% OFF                              Jay Meldi Fashion Hub Purple Silk Saree | Stunning Purple Saree for Special Events | Gorgeous Purple Saree with Designer Work for Women    ₹370.00  ₹1,000.00     63% OFF                               Lowest Price     Women Striped Dupatta    ₹102.00  ₹299.00     65% OFF                              Ankle-Length Leggings with Elasticated Waist    ₹299.00                             Printed Straight Kurta Set    ₹450.00  ₹1,499.00     69% OFF                              Hustiger Women Rayon Printed Anarkali Kurti| Printed Gown ( Blue-XL)    ₹379.00  ₹1,499.00     74% OFF\""
            ],
            "application/vnd.google.colaboratory.intrinsic+json": {
              "type": "string"
            }
          },
          "metadata": {},
          "execution_count": 26
        }
      ]
    },
    {
      "cell_type": "code",
      "source": [
        "data=text.split('                             ')\n",
        "for i in data:\n",
        "  print(i.strip())\n"
      ],
      "metadata": {
        "id": "b4mlfdCb5Vud",
        "colab": {
          "base_uri": "https://localhost:8080/"
        },
        "outputId": "7b042ead-7340-4860-d72e-c70d4253af61"
      },
      "execution_count": null,
      "outputs": [
        {
          "output_type": "stream",
          "name": "stdout",
          "text": [
            "Women Regular Fit Pants    ₹199.00  ₹599.00     66% OFF\n",
            "Lowest Price     Women Leaf Print Straight Kurta & Pants Set    ₹270.00  ₹899.00     69% OFF\n",
            "Ankle-Length Leggings with Elasticated Waist    ₹299.00\n",
            "Mirayya Cotton Ankle Fit Trouser Pants for Women & Girls | Women Cotton Pant Trouser Regular Fit with Two Pocket for Office School Formal Casual Daily Use -black    ₹229.00  ₹1,100.00     79% OFF\n",
            "Lowest Price     Leaf Print Chanderi Dupatta    ₹150.00  ₹499.00     69% OFF\n",
            "Button-Down V-Neck Jacket    ₹300.00  ₹999.00     69% OFF\n",
            "Deepaayai fashions Women's Rayon Tunic Top Embroidered Tunic Available in Black    ₹329.00  ₹1,299.00     74% OFF\n",
            "Jay Meldi Fashion Hub Purple Silk Saree | Stunning Purple Saree for Special Events | Gorgeous Purple Saree with Designer Work for Women    ₹370.00  ₹1,000.00     63% OFF\n",
            "Lowest Price     Women Striped Dupatta    ₹102.00  ₹299.00     65% OFF\n",
            "Ankle-Length Leggings with Elasticated Waist    ₹299.00\n",
            "Printed Straight Kurta Set    ₹450.00  ₹1,499.00     69% OFF\n",
            "Hustiger Women Rayon Printed Anarkali Kurti| Printed Gown ( Blue-XL)    ₹379.00  ₹1,499.00     74% OFF\n"
          ]
        }
      ]
    },
    {
      "cell_type": "code",
      "source": [
        "del data[2]\n",
        "del data[9]\n",
        "data"
      ],
      "metadata": {
        "id": "Lc6MpMCS79Jq",
        "colab": {
          "base_uri": "https://localhost:8080/"
        },
        "outputId": "30553588-abc6-41d8-d72e-318062b5bf13"
      },
      "execution_count": null,
      "outputs": [
        {
          "output_type": "execute_result",
          "data": {
            "text/plain": [
              "['Women Regular Fit Pants    ₹199.00  ₹599.00     66% OFF',\n",
              " '  Lowest Price     Women Leaf Print Straight Kurta & Pants Set    ₹270.00  ₹899.00     69% OFF',\n",
              " 'Mirayya Cotton Ankle Fit Trouser Pants for Women & Girls | Women Cotton Pant Trouser Regular Fit with Two Pocket for Office School Formal Casual Daily Use -black    ₹229.00  ₹1,100.00     79% OFF',\n",
              " '  Lowest Price     Leaf Print Chanderi Dupatta    ₹150.00  ₹499.00     69% OFF',\n",
              " ' Button-Down V-Neck Jacket    ₹300.00  ₹999.00     69% OFF',\n",
              " \" Deepaayai fashions Women's Rayon Tunic Top Embroidered Tunic Available in Black    ₹329.00  ₹1,299.00     74% OFF\",\n",
              " ' Jay Meldi Fashion Hub Purple Silk Saree | Stunning Purple Saree for Special Events | Gorgeous Purple Saree with Designer Work for Women    ₹370.00  ₹1,000.00     63% OFF',\n",
              " '  Lowest Price     Women Striped Dupatta    ₹102.00  ₹299.00     65% OFF',\n",
              " ' Ankle-Length Leggings with Elasticated Waist    ₹299.00',\n",
              " ' Hustiger Women Rayon Printed Anarkali Kurti| Printed Gown ( Blue-XL)    ₹379.00  ₹1,499.00     74% OFF']"
            ]
          },
          "metadata": {},
          "execution_count": 28
        }
      ]
    },
    {
      "cell_type": "code",
      "source": [
        "maindata=[]\n",
        "for i in data:\n",
        "  maindata.append(i.strip().split('  '))\n",
        "maindata"
      ],
      "metadata": {
        "id": "vLyYFdJK9IH2",
        "colab": {
          "base_uri": "https://localhost:8080/"
        },
        "outputId": "4e37c0b4-acb1-4bec-e594-699e91752929"
      },
      "execution_count": null,
      "outputs": [
        {
          "output_type": "execute_result",
          "data": {
            "text/plain": [
              "[['Women Regular Fit Pants', '', '₹199.00', '₹599.00', '', ' 66% OFF'],\n",
              " ['Lowest Price',\n",
              "  '',\n",
              "  ' Women Leaf Print Straight Kurta & Pants Set',\n",
              "  '',\n",
              "  '₹270.00',\n",
              "  '₹899.00',\n",
              "  '',\n",
              "  ' 69% OFF'],\n",
              " ['Mirayya Cotton Ankle Fit Trouser Pants for Women & Girls | Women Cotton Pant Trouser Regular Fit with Two Pocket for Office School Formal Casual Daily Use -black',\n",
              "  '',\n",
              "  '₹229.00',\n",
              "  '₹1,100.00',\n",
              "  '',\n",
              "  ' 79% OFF'],\n",
              " ['Lowest Price',\n",
              "  '',\n",
              "  ' Leaf Print Chanderi Dupatta',\n",
              "  '',\n",
              "  '₹150.00',\n",
              "  '₹499.00',\n",
              "  '',\n",
              "  ' 69% OFF'],\n",
              " ['Button-Down V-Neck Jacket', '', '₹300.00', '₹999.00', '', ' 69% OFF'],\n",
              " [\"Deepaayai fashions Women's Rayon Tunic Top Embroidered Tunic Available in Black\",\n",
              "  '',\n",
              "  '₹329.00',\n",
              "  '₹1,299.00',\n",
              "  '',\n",
              "  ' 74% OFF'],\n",
              " ['Jay Meldi Fashion Hub Purple Silk Saree | Stunning Purple Saree for Special Events | Gorgeous Purple Saree with Designer Work for Women',\n",
              "  '',\n",
              "  '₹370.00',\n",
              "  '₹1,000.00',\n",
              "  '',\n",
              "  ' 63% OFF'],\n",
              " ['Lowest Price',\n",
              "  '',\n",
              "  ' Women Striped Dupatta',\n",
              "  '',\n",
              "  '₹102.00',\n",
              "  '₹299.00',\n",
              "  '',\n",
              "  ' 65% OFF'],\n",
              " ['Ankle-Length Leggings with Elasticated Waist', '', '₹299.00'],\n",
              " ['Hustiger Women Rayon Printed Anarkali Kurti| Printed Gown ( Blue-XL)',\n",
              "  '',\n",
              "  '₹379.00',\n",
              "  '₹1,499.00',\n",
              "  '',\n",
              "  ' 74% OFF']]"
            ]
          },
          "metadata": {},
          "execution_count": 29
        }
      ]
    },
    {
      "cell_type": "code",
      "source": [
        "products=[]\n",
        "for i in maindata:\n",
        "  for j in i:\n",
        "    if j!='' and j.strip()!='Lowest Price' and j.strip()!='Additional Coupon Discount':\n",
        "      products.append(j)\n",
        "products"
      ],
      "metadata": {
        "id": "6LsmKVJoBH5o",
        "colab": {
          "base_uri": "https://localhost:8080/"
        },
        "outputId": "88e6d180-0c79-4850-a88a-9430774e7000"
      },
      "execution_count": null,
      "outputs": [
        {
          "output_type": "execute_result",
          "data": {
            "text/plain": [
              "['Women Regular Fit Pants',\n",
              " '₹199.00',\n",
              " '₹599.00',\n",
              " ' 66% OFF',\n",
              " ' Women Leaf Print Straight Kurta & Pants Set',\n",
              " '₹270.00',\n",
              " '₹899.00',\n",
              " ' 69% OFF',\n",
              " 'Mirayya Cotton Ankle Fit Trouser Pants for Women & Girls | Women Cotton Pant Trouser Regular Fit with Two Pocket for Office School Formal Casual Daily Use -black',\n",
              " '₹229.00',\n",
              " '₹1,100.00',\n",
              " ' 79% OFF',\n",
              " ' Leaf Print Chanderi Dupatta',\n",
              " '₹150.00',\n",
              " '₹499.00',\n",
              " ' 69% OFF',\n",
              " 'Button-Down V-Neck Jacket',\n",
              " '₹300.00',\n",
              " '₹999.00',\n",
              " ' 69% OFF',\n",
              " \"Deepaayai fashions Women's Rayon Tunic Top Embroidered Tunic Available in Black\",\n",
              " '₹329.00',\n",
              " '₹1,299.00',\n",
              " ' 74% OFF',\n",
              " 'Jay Meldi Fashion Hub Purple Silk Saree | Stunning Purple Saree for Special Events | Gorgeous Purple Saree with Designer Work for Women',\n",
              " '₹370.00',\n",
              " '₹1,000.00',\n",
              " ' 63% OFF',\n",
              " ' Women Striped Dupatta',\n",
              " '₹102.00',\n",
              " '₹299.00',\n",
              " ' 65% OFF',\n",
              " 'Ankle-Length Leggings with Elasticated Waist',\n",
              " '₹299.00',\n",
              " 'Hustiger Women Rayon Printed Anarkali Kurti| Printed Gown ( Blue-XL)',\n",
              " '₹379.00',\n",
              " '₹1,499.00',\n",
              " ' 74% OFF']"
            ]
          },
          "metadata": {},
          "execution_count": 30
        }
      ]
    },
    {
      "cell_type": "code",
      "source": [
        "product_names=products[::4]\n",
        "offer_price=products[1::4]\n",
        "original_price=products[2::4]\n",
        "discount=products[3::4]\n",
        "product_names.pop()\n",
        "offer_price.pop()\n",
        "print(product_names)\n",
        "print(offer_price)\n",
        "print(original_price)\n",
        "print(discount)\n"
      ],
      "metadata": {
        "id": "L6xRtn_kCnQ9",
        "colab": {
          "base_uri": "https://localhost:8080/"
        },
        "outputId": "9511bc44-52e5-4201-be75-f305b21d36e1"
      },
      "execution_count": null,
      "outputs": [
        {
          "output_type": "stream",
          "name": "stdout",
          "text": [
            "['Women Regular Fit Pants', ' Women Leaf Print Straight Kurta & Pants Set', 'Mirayya Cotton Ankle Fit Trouser Pants for Women & Girls | Women Cotton Pant Trouser Regular Fit with Two Pocket for Office School Formal Casual Daily Use -black', ' Leaf Print Chanderi Dupatta', 'Button-Down V-Neck Jacket', \"Deepaayai fashions Women's Rayon Tunic Top Embroidered Tunic Available in Black\", 'Jay Meldi Fashion Hub Purple Silk Saree | Stunning Purple Saree for Special Events | Gorgeous Purple Saree with Designer Work for Women', ' Women Striped Dupatta', 'Ankle-Length Leggings with Elasticated Waist']\n",
            "['₹199.00', '₹270.00', '₹229.00', '₹150.00', '₹300.00', '₹329.00', '₹370.00', '₹102.00', '₹299.00']\n",
            "['₹599.00', '₹899.00', '₹1,100.00', '₹499.00', '₹999.00', '₹1,299.00', '₹1,000.00', '₹299.00', 'Hustiger Women Rayon Printed Anarkali Kurti| Printed Gown ( Blue-XL)']\n",
            "[' 66% OFF', ' 69% OFF', ' 79% OFF', ' 69% OFF', ' 69% OFF', ' 74% OFF', ' 63% OFF', ' 65% OFF', '₹379.00']\n"
          ]
        }
      ]
    },
    {
      "cell_type": "code",
      "source": [
        "df=pd.DataFrame({'Product Names':product_names,'Offer_price':offer_price,'Original_price':original_price,'Discount':discount})\n",
        "df"
      ],
      "metadata": {
        "id": "fIz-19ThHOkg",
        "colab": {
          "base_uri": "https://localhost:8080/",
          "height": 331
        },
        "outputId": "5b15c567-f8ee-4969-9832-27cdd1e6f579"
      },
      "execution_count": null,
      "outputs": [
        {
          "output_type": "execute_result",
          "data": {
            "text/plain": [
              "                                       Product Names Offer_price  \\\n",
              "0                            Women Regular Fit Pants     ₹199.00   \n",
              "1        Women Leaf Print Straight Kurta & Pants Set     ₹270.00   \n",
              "2  Mirayya Cotton Ankle Fit Trouser Pants for Wom...     ₹229.00   \n",
              "3                        Leaf Print Chanderi Dupatta     ₹150.00   \n",
              "4                          Button-Down V-Neck Jacket     ₹300.00   \n",
              "5  Deepaayai fashions Women's Rayon Tunic Top Emb...     ₹329.00   \n",
              "6  Jay Meldi Fashion Hub Purple Silk Saree | Stun...     ₹370.00   \n",
              "7                              Women Striped Dupatta     ₹102.00   \n",
              "8       Ankle-Length Leggings with Elasticated Waist     ₹299.00   \n",
              "\n",
              "                                      Original_price  Discount  \n",
              "0                                            ₹599.00   66% OFF  \n",
              "1                                            ₹899.00   69% OFF  \n",
              "2                                          ₹1,100.00   79% OFF  \n",
              "3                                            ₹499.00   69% OFF  \n",
              "4                                            ₹999.00   69% OFF  \n",
              "5                                          ₹1,299.00   74% OFF  \n",
              "6                                          ₹1,000.00   63% OFF  \n",
              "7                                            ₹299.00   65% OFF  \n",
              "8  Hustiger Women Rayon Printed Anarkali Kurti| P...   ₹379.00  "
            ],
            "text/html": [
              "\n",
              "  <div id=\"df-9142746a-c701-42c2-8fc5-44f6f57201e4\" class=\"colab-df-container\">\n",
              "    <div>\n",
              "<style scoped>\n",
              "    .dataframe tbody tr th:only-of-type {\n",
              "        vertical-align: middle;\n",
              "    }\n",
              "\n",
              "    .dataframe tbody tr th {\n",
              "        vertical-align: top;\n",
              "    }\n",
              "\n",
              "    .dataframe thead th {\n",
              "        text-align: right;\n",
              "    }\n",
              "</style>\n",
              "<table border=\"1\" class=\"dataframe\">\n",
              "  <thead>\n",
              "    <tr style=\"text-align: right;\">\n",
              "      <th></th>\n",
              "      <th>Product Names</th>\n",
              "      <th>Offer_price</th>\n",
              "      <th>Original_price</th>\n",
              "      <th>Discount</th>\n",
              "    </tr>\n",
              "  </thead>\n",
              "  <tbody>\n",
              "    <tr>\n",
              "      <th>0</th>\n",
              "      <td>Women Regular Fit Pants</td>\n",
              "      <td>₹199.00</td>\n",
              "      <td>₹599.00</td>\n",
              "      <td>66% OFF</td>\n",
              "    </tr>\n",
              "    <tr>\n",
              "      <th>1</th>\n",
              "      <td>Women Leaf Print Straight Kurta &amp; Pants Set</td>\n",
              "      <td>₹270.00</td>\n",
              "      <td>₹899.00</td>\n",
              "      <td>69% OFF</td>\n",
              "    </tr>\n",
              "    <tr>\n",
              "      <th>2</th>\n",
              "      <td>Mirayya Cotton Ankle Fit Trouser Pants for Wom...</td>\n",
              "      <td>₹229.00</td>\n",
              "      <td>₹1,100.00</td>\n",
              "      <td>79% OFF</td>\n",
              "    </tr>\n",
              "    <tr>\n",
              "      <th>3</th>\n",
              "      <td>Leaf Print Chanderi Dupatta</td>\n",
              "      <td>₹150.00</td>\n",
              "      <td>₹499.00</td>\n",
              "      <td>69% OFF</td>\n",
              "    </tr>\n",
              "    <tr>\n",
              "      <th>4</th>\n",
              "      <td>Button-Down V-Neck Jacket</td>\n",
              "      <td>₹300.00</td>\n",
              "      <td>₹999.00</td>\n",
              "      <td>69% OFF</td>\n",
              "    </tr>\n",
              "    <tr>\n",
              "      <th>5</th>\n",
              "      <td>Deepaayai fashions Women's Rayon Tunic Top Emb...</td>\n",
              "      <td>₹329.00</td>\n",
              "      <td>₹1,299.00</td>\n",
              "      <td>74% OFF</td>\n",
              "    </tr>\n",
              "    <tr>\n",
              "      <th>6</th>\n",
              "      <td>Jay Meldi Fashion Hub Purple Silk Saree | Stun...</td>\n",
              "      <td>₹370.00</td>\n",
              "      <td>₹1,000.00</td>\n",
              "      <td>63% OFF</td>\n",
              "    </tr>\n",
              "    <tr>\n",
              "      <th>7</th>\n",
              "      <td>Women Striped Dupatta</td>\n",
              "      <td>₹102.00</td>\n",
              "      <td>₹299.00</td>\n",
              "      <td>65% OFF</td>\n",
              "    </tr>\n",
              "    <tr>\n",
              "      <th>8</th>\n",
              "      <td>Ankle-Length Leggings with Elasticated Waist</td>\n",
              "      <td>₹299.00</td>\n",
              "      <td>Hustiger Women Rayon Printed Anarkali Kurti| P...</td>\n",
              "      <td>₹379.00</td>\n",
              "    </tr>\n",
              "  </tbody>\n",
              "</table>\n",
              "</div>\n",
              "    <div class=\"colab-df-buttons\">\n",
              "\n",
              "  <div class=\"colab-df-container\">\n",
              "    <button class=\"colab-df-convert\" onclick=\"convertToInteractive('df-9142746a-c701-42c2-8fc5-44f6f57201e4')\"\n",
              "            title=\"Convert this dataframe to an interactive table.\"\n",
              "            style=\"display:none;\">\n",
              "\n",
              "  <svg xmlns=\"http://www.w3.org/2000/svg\" height=\"24px\" viewBox=\"0 -960 960 960\">\n",
              "    <path d=\"M120-120v-720h720v720H120Zm60-500h600v-160H180v160Zm220 220h160v-160H400v160Zm0 220h160v-160H400v160ZM180-400h160v-160H180v160Zm440 0h160v-160H620v160ZM180-180h160v-160H180v160Zm440 0h160v-160H620v160Z\"/>\n",
              "  </svg>\n",
              "    </button>\n",
              "\n",
              "  <style>\n",
              "    .colab-df-container {\n",
              "      display:flex;\n",
              "      gap: 12px;\n",
              "    }\n",
              "\n",
              "    .colab-df-convert {\n",
              "      background-color: #E8F0FE;\n",
              "      border: none;\n",
              "      border-radius: 50%;\n",
              "      cursor: pointer;\n",
              "      display: none;\n",
              "      fill: #1967D2;\n",
              "      height: 32px;\n",
              "      padding: 0 0 0 0;\n",
              "      width: 32px;\n",
              "    }\n",
              "\n",
              "    .colab-df-convert:hover {\n",
              "      background-color: #E2EBFA;\n",
              "      box-shadow: 0px 1px 2px rgba(60, 64, 67, 0.3), 0px 1px 3px 1px rgba(60, 64, 67, 0.15);\n",
              "      fill: #174EA6;\n",
              "    }\n",
              "\n",
              "    .colab-df-buttons div {\n",
              "      margin-bottom: 4px;\n",
              "    }\n",
              "\n",
              "    [theme=dark] .colab-df-convert {\n",
              "      background-color: #3B4455;\n",
              "      fill: #D2E3FC;\n",
              "    }\n",
              "\n",
              "    [theme=dark] .colab-df-convert:hover {\n",
              "      background-color: #434B5C;\n",
              "      box-shadow: 0px 1px 3px 1px rgba(0, 0, 0, 0.15);\n",
              "      filter: drop-shadow(0px 1px 2px rgba(0, 0, 0, 0.3));\n",
              "      fill: #FFFFFF;\n",
              "    }\n",
              "  </style>\n",
              "\n",
              "    <script>\n",
              "      const buttonEl =\n",
              "        document.querySelector('#df-9142746a-c701-42c2-8fc5-44f6f57201e4 button.colab-df-convert');\n",
              "      buttonEl.style.display =\n",
              "        google.colab.kernel.accessAllowed ? 'block' : 'none';\n",
              "\n",
              "      async function convertToInteractive(key) {\n",
              "        const element = document.querySelector('#df-9142746a-c701-42c2-8fc5-44f6f57201e4');\n",
              "        const dataTable =\n",
              "          await google.colab.kernel.invokeFunction('convertToInteractive',\n",
              "                                                    [key], {});\n",
              "        if (!dataTable) return;\n",
              "\n",
              "        const docLinkHtml = 'Like what you see? Visit the ' +\n",
              "          '<a target=\"_blank\" href=https://colab.research.google.com/notebooks/data_table.ipynb>data table notebook</a>'\n",
              "          + ' to learn more about interactive tables.';\n",
              "        element.innerHTML = '';\n",
              "        dataTable['output_type'] = 'display_data';\n",
              "        await google.colab.output.renderOutput(dataTable, element);\n",
              "        const docLink = document.createElement('div');\n",
              "        docLink.innerHTML = docLinkHtml;\n",
              "        element.appendChild(docLink);\n",
              "      }\n",
              "    </script>\n",
              "  </div>\n",
              "\n",
              "\n",
              "<div id=\"df-bb5e0267-2563-4ec8-be3e-111b906b54de\">\n",
              "  <button class=\"colab-df-quickchart\" onclick=\"quickchart('df-bb5e0267-2563-4ec8-be3e-111b906b54de')\"\n",
              "            title=\"Suggest charts\"\n",
              "            style=\"display:none;\">\n",
              "\n",
              "<svg xmlns=\"http://www.w3.org/2000/svg\" height=\"24px\"viewBox=\"0 0 24 24\"\n",
              "     width=\"24px\">\n",
              "    <g>\n",
              "        <path d=\"M19 3H5c-1.1 0-2 .9-2 2v14c0 1.1.9 2 2 2h14c1.1 0 2-.9 2-2V5c0-1.1-.9-2-2-2zM9 17H7v-7h2v7zm4 0h-2V7h2v10zm4 0h-2v-4h2v4z\"/>\n",
              "    </g>\n",
              "</svg>\n",
              "  </button>\n",
              "\n",
              "<style>\n",
              "  .colab-df-quickchart {\n",
              "      --bg-color: #E8F0FE;\n",
              "      --fill-color: #1967D2;\n",
              "      --hover-bg-color: #E2EBFA;\n",
              "      --hover-fill-color: #174EA6;\n",
              "      --disabled-fill-color: #AAA;\n",
              "      --disabled-bg-color: #DDD;\n",
              "  }\n",
              "\n",
              "  [theme=dark] .colab-df-quickchart {\n",
              "      --bg-color: #3B4455;\n",
              "      --fill-color: #D2E3FC;\n",
              "      --hover-bg-color: #434B5C;\n",
              "      --hover-fill-color: #FFFFFF;\n",
              "      --disabled-bg-color: #3B4455;\n",
              "      --disabled-fill-color: #666;\n",
              "  }\n",
              "\n",
              "  .colab-df-quickchart {\n",
              "    background-color: var(--bg-color);\n",
              "    border: none;\n",
              "    border-radius: 50%;\n",
              "    cursor: pointer;\n",
              "    display: none;\n",
              "    fill: var(--fill-color);\n",
              "    height: 32px;\n",
              "    padding: 0;\n",
              "    width: 32px;\n",
              "  }\n",
              "\n",
              "  .colab-df-quickchart:hover {\n",
              "    background-color: var(--hover-bg-color);\n",
              "    box-shadow: 0 1px 2px rgba(60, 64, 67, 0.3), 0 1px 3px 1px rgba(60, 64, 67, 0.15);\n",
              "    fill: var(--button-hover-fill-color);\n",
              "  }\n",
              "\n",
              "  .colab-df-quickchart-complete:disabled,\n",
              "  .colab-df-quickchart-complete:disabled:hover {\n",
              "    background-color: var(--disabled-bg-color);\n",
              "    fill: var(--disabled-fill-color);\n",
              "    box-shadow: none;\n",
              "  }\n",
              "\n",
              "  .colab-df-spinner {\n",
              "    border: 2px solid var(--fill-color);\n",
              "    border-color: transparent;\n",
              "    border-bottom-color: var(--fill-color);\n",
              "    animation:\n",
              "      spin 1s steps(1) infinite;\n",
              "  }\n",
              "\n",
              "  @keyframes spin {\n",
              "    0% {\n",
              "      border-color: transparent;\n",
              "      border-bottom-color: var(--fill-color);\n",
              "      border-left-color: var(--fill-color);\n",
              "    }\n",
              "    20% {\n",
              "      border-color: transparent;\n",
              "      border-left-color: var(--fill-color);\n",
              "      border-top-color: var(--fill-color);\n",
              "    }\n",
              "    30% {\n",
              "      border-color: transparent;\n",
              "      border-left-color: var(--fill-color);\n",
              "      border-top-color: var(--fill-color);\n",
              "      border-right-color: var(--fill-color);\n",
              "    }\n",
              "    40% {\n",
              "      border-color: transparent;\n",
              "      border-right-color: var(--fill-color);\n",
              "      border-top-color: var(--fill-color);\n",
              "    }\n",
              "    60% {\n",
              "      border-color: transparent;\n",
              "      border-right-color: var(--fill-color);\n",
              "    }\n",
              "    80% {\n",
              "      border-color: transparent;\n",
              "      border-right-color: var(--fill-color);\n",
              "      border-bottom-color: var(--fill-color);\n",
              "    }\n",
              "    90% {\n",
              "      border-color: transparent;\n",
              "      border-bottom-color: var(--fill-color);\n",
              "    }\n",
              "  }\n",
              "</style>\n",
              "\n",
              "  <script>\n",
              "    async function quickchart(key) {\n",
              "      const quickchartButtonEl =\n",
              "        document.querySelector('#' + key + ' button');\n",
              "      quickchartButtonEl.disabled = true;  // To prevent multiple clicks.\n",
              "      quickchartButtonEl.classList.add('colab-df-spinner');\n",
              "      try {\n",
              "        const charts = await google.colab.kernel.invokeFunction(\n",
              "            'suggestCharts', [key], {});\n",
              "      } catch (error) {\n",
              "        console.error('Error during call to suggestCharts:', error);\n",
              "      }\n",
              "      quickchartButtonEl.classList.remove('colab-df-spinner');\n",
              "      quickchartButtonEl.classList.add('colab-df-quickchart-complete');\n",
              "    }\n",
              "    (() => {\n",
              "      let quickchartButtonEl =\n",
              "        document.querySelector('#df-bb5e0267-2563-4ec8-be3e-111b906b54de button');\n",
              "      quickchartButtonEl.style.display =\n",
              "        google.colab.kernel.accessAllowed ? 'block' : 'none';\n",
              "    })();\n",
              "  </script>\n",
              "</div>\n",
              "\n",
              "  <div id=\"id_d680ac6f-ed62-434f-8614-2dfa1b53bc0d\">\n",
              "    <style>\n",
              "      .colab-df-generate {\n",
              "        background-color: #E8F0FE;\n",
              "        border: none;\n",
              "        border-radius: 50%;\n",
              "        cursor: pointer;\n",
              "        display: none;\n",
              "        fill: #1967D2;\n",
              "        height: 32px;\n",
              "        padding: 0 0 0 0;\n",
              "        width: 32px;\n",
              "      }\n",
              "\n",
              "      .colab-df-generate:hover {\n",
              "        background-color: #E2EBFA;\n",
              "        box-shadow: 0px 1px 2px rgba(60, 64, 67, 0.3), 0px 1px 3px 1px rgba(60, 64, 67, 0.15);\n",
              "        fill: #174EA6;\n",
              "      }\n",
              "\n",
              "      [theme=dark] .colab-df-generate {\n",
              "        background-color: #3B4455;\n",
              "        fill: #D2E3FC;\n",
              "      }\n",
              "\n",
              "      [theme=dark] .colab-df-generate:hover {\n",
              "        background-color: #434B5C;\n",
              "        box-shadow: 0px 1px 3px 1px rgba(0, 0, 0, 0.15);\n",
              "        filter: drop-shadow(0px 1px 2px rgba(0, 0, 0, 0.3));\n",
              "        fill: #FFFFFF;\n",
              "      }\n",
              "    </style>\n",
              "    <button class=\"colab-df-generate\" onclick=\"generateWithVariable('df')\"\n",
              "            title=\"Generate code using this dataframe.\"\n",
              "            style=\"display:none;\">\n",
              "\n",
              "  <svg xmlns=\"http://www.w3.org/2000/svg\" height=\"24px\"viewBox=\"0 0 24 24\"\n",
              "       width=\"24px\">\n",
              "    <path d=\"M7,19H8.4L18.45,9,17,7.55,7,17.6ZM5,21V16.75L18.45,3.32a2,2,0,0,1,2.83,0l1.4,1.43a1.91,1.91,0,0,1,.58,1.4,1.91,1.91,0,0,1-.58,1.4L9.25,21ZM18.45,9,17,7.55Zm-12,3A5.31,5.31,0,0,0,4.9,8.1,5.31,5.31,0,0,0,1,6.5,5.31,5.31,0,0,0,4.9,4.9,5.31,5.31,0,0,0,6.5,1,5.31,5.31,0,0,0,8.1,4.9,5.31,5.31,0,0,0,12,6.5,5.46,5.46,0,0,0,6.5,12Z\"/>\n",
              "  </svg>\n",
              "    </button>\n",
              "    <script>\n",
              "      (() => {\n",
              "      const buttonEl =\n",
              "        document.querySelector('#id_d680ac6f-ed62-434f-8614-2dfa1b53bc0d button.colab-df-generate');\n",
              "      buttonEl.style.display =\n",
              "        google.colab.kernel.accessAllowed ? 'block' : 'none';\n",
              "\n",
              "      buttonEl.onclick = () => {\n",
              "        google.colab.notebook.generateWithVariable('df');\n",
              "      }\n",
              "      })();\n",
              "    </script>\n",
              "  </div>\n",
              "\n",
              "    </div>\n",
              "  </div>\n"
            ],
            "application/vnd.google.colaboratory.intrinsic+json": {
              "type": "dataframe",
              "variable_name": "df",
              "summary": "{\n  \"name\": \"df\",\n  \"rows\": 9,\n  \"fields\": [\n    {\n      \"column\": \"Product Names\",\n      \"properties\": {\n        \"dtype\": \"string\",\n        \"num_unique_values\": 9,\n        \"samples\": [\n          \" Women Striped Dupatta\",\n          \" Women Leaf Print Straight Kurta & Pants Set\",\n          \"Deepaayai fashions Women's Rayon Tunic Top Embroidered Tunic Available in Black\"\n        ],\n        \"semantic_type\": \"\",\n        \"description\": \"\"\n      }\n    },\n    {\n      \"column\": \"Offer_price\",\n      \"properties\": {\n        \"dtype\": \"string\",\n        \"num_unique_values\": 9,\n        \"samples\": [\n          \"\\u20b9102.00\",\n          \"\\u20b9270.00\",\n          \"\\u20b9329.00\"\n        ],\n        \"semantic_type\": \"\",\n        \"description\": \"\"\n      }\n    },\n    {\n      \"column\": \"Original_price\",\n      \"properties\": {\n        \"dtype\": \"string\",\n        \"num_unique_values\": 9,\n        \"samples\": [\n          \"\\u20b9299.00\",\n          \"\\u20b9899.00\",\n          \"\\u20b91,299.00\"\n        ],\n        \"semantic_type\": \"\",\n        \"description\": \"\"\n      }\n    },\n    {\n      \"column\": \"Discount\",\n      \"properties\": {\n        \"dtype\": \"string\",\n        \"num_unique_values\": 7,\n        \"samples\": [\n          \" 66% OFF\",\n          \" 69% OFF\",\n          \" 65% OFF\"\n        ],\n        \"semantic_type\": \"\",\n        \"description\": \"\"\n      }\n    }\n  ]\n}"
            }
          },
          "metadata": {},
          "execution_count": 37
        }
      ]
    },
    {
      "cell_type": "code",
      "source": [
        "df.to_csv('Products data.csv')\n",
        "from google.colab import files\n",
        "files.download('Products data.csv')"
      ],
      "metadata": {
        "colab": {
          "base_uri": "https://localhost:8080/",
          "height": 17
        },
        "id": "03siPeB0IIRb",
        "outputId": "c4bdf2a1-d8cf-4ab6-da73-723621b205d3"
      },
      "execution_count": null,
      "outputs": [
        {
          "output_type": "display_data",
          "data": {
            "text/plain": [
              "<IPython.core.display.Javascript object>"
            ],
            "application/javascript": [
              "\n",
              "    async function download(id, filename, size) {\n",
              "      if (!google.colab.kernel.accessAllowed) {\n",
              "        return;\n",
              "      }\n",
              "      const div = document.createElement('div');\n",
              "      const label = document.createElement('label');\n",
              "      label.textContent = `Downloading \"${filename}\": `;\n",
              "      div.appendChild(label);\n",
              "      const progress = document.createElement('progress');\n",
              "      progress.max = size;\n",
              "      div.appendChild(progress);\n",
              "      document.body.appendChild(div);\n",
              "\n",
              "      const buffers = [];\n",
              "      let downloaded = 0;\n",
              "\n",
              "      const channel = await google.colab.kernel.comms.open(id);\n",
              "      // Send a message to notify the kernel that we're ready.\n",
              "      channel.send({})\n",
              "\n",
              "      for await (const message of channel.messages) {\n",
              "        // Send a message to notify the kernel that we're ready.\n",
              "        channel.send({})\n",
              "        if (message.buffers) {\n",
              "          for (const buffer of message.buffers) {\n",
              "            buffers.push(buffer);\n",
              "            downloaded += buffer.byteLength;\n",
              "            progress.value = downloaded;\n",
              "          }\n",
              "        }\n",
              "      }\n",
              "      const blob = new Blob(buffers, {type: 'application/binary'});\n",
              "      const a = document.createElement('a');\n",
              "      a.href = window.URL.createObjectURL(blob);\n",
              "      a.download = filename;\n",
              "      div.appendChild(a);\n",
              "      a.click();\n",
              "      div.remove();\n",
              "    }\n",
              "  "
            ]
          },
          "metadata": {}
        },
        {
          "output_type": "display_data",
          "data": {
            "text/plain": [
              "<IPython.core.display.Javascript object>"
            ],
            "application/javascript": [
              "download(\"download_098f8da6-0b29-43d7-babf-6e46c70a5f0a\", \"Products data.csv\", 972)"
            ]
          },
          "metadata": {}
        }
      ]
    }
  ]
}